{
 "cells": [
  {
   "cell_type": "markdown",
   "metadata": {},
   "source": [
    "Let's define the Maven artifact for Weka's 3.9.3 developer version:"
   ]
  },
  {
   "cell_type": "code",
   "execution_count": 6,
   "metadata": {},
   "outputs": [],
   "source": [
    "%maven nz.ac.waikato.cms.weka:weka-dev:3.9.3\n"
   ]
  },
  {
   "cell_type": "markdown",
   "metadata": {},
   "source": [
    "Now let's cross-validate J48 on the UCI dataset *anneal*:"
   ]
  },
  {
   "cell_type": "code",
   "execution_count": 7,
   "metadata": {},
   "outputs": [
    {
     "name": "stdout",
     "output_type": "stream",
     "text": [
      "\n",
      "Correctly Classified Instances         884               98.441  %\n",
      "Incorrectly Classified Instances        14                1.559  %\n",
      "Kappa statistic                          0.9605\n",
      "Mean absolute error                      0.0056\n",
      "Root mean squared error                  0.0669\n",
      "Relative absolute error                  4.1865 %\n",
      "Root relative squared error             25.9118 %\n",
      "Total Number of Instances              898     \n",
      "\n"
     ]
    }
   ],
   "source": [
    "import weka.classifiers.trees.J48;\n",
    "import weka.classifiers.Evaluation;\n",
    "import weka.core.converters.ConverterUtils.DataSource;\n",
    "import weka.core.Instances;\n",
    "import java.util.Random;\n",
    "\n",
    "Instances data = DataSource.read(\"/home/fracpete/development/datasets/uci/nominal/anneal.arff\");\n",
    "data.setClassIndex(data.numAttributes() - 1);\n",
    "\n",
    "J48 cls = new J48();\n",
    "Evaluation eval = new Evaluation(data);\n",
    "eval.crossValidateModel(cls, data, 10, new Random(1));\n",
    "System.out.println(eval.toSummaryString());"
   ]
  },
  {
   "cell_type": "code",
   "execution_count": null,
   "metadata": {},
   "outputs": [],
   "source": []
  }
 ],
 "metadata": {
  "kernelspec": {
   "display_name": "Java",
   "language": "java",
   "name": "java"
  },
  "language_info": {
   "codemirror_mode": "java",
   "file_extension": ".java",
   "mimetype": "text/x-java-source",
   "name": "Java",
   "pygments_lexer": "java",
   "version": "10.0.2+13"
  }
 },
 "nbformat": 4,
 "nbformat_minor": 2
}
